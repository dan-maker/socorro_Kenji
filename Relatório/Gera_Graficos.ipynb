{
 "cells": [
  {
   "cell_type": "code",
   "execution_count": 4,
   "id": "d6be810c",
   "metadata": {},
   "outputs": [],
   "source": [
    "import numpy as np\n",
    "import matplotlib.pyplot as plt"
   ]
  },
  {
   "cell_type": "code",
   "execution_count": 11,
   "id": "730bfcfd",
   "metadata": {},
   "outputs": [],
   "source": [
    "def plota_reta(x, y_aleat, y_ord_c, y_ord_d):\n",
    "    fig = plt.figure(figsize=(5,15))\n",
    "    gs = fig.add_gridspec(1, 3)\n",
    "    axs = [fig.add_subplot(gs[0, 0]), fig.add_subplot(gs[0, 1]), fig.add_subplot(gs[0, 2])]\n",
    "    label = ['HeapSort', 'BubbleSort', 'RadixSort', 'QuickSort', '' hbqr\"]\n",
    "    slope_aleat = []\n",
    "    for i in range(y_aleat.shape[1]):\n",
    "        coef = np.polyfit(x,y_aleat[:,i],1) # x*coef[0] + coef[1] = y\n",
    "        slope_aleat.append(coef[0])\n",
    "        x_linha = x\n",
    "        y_linha = x*coef[0]+np.array([coef[1] for i in range(len(x))])\n",
    "        axs[0].scatter(x, y_aleat[:,i])\n",
    "        axs[0].plot(x_linha, y_linha, label= label[i]+\": \"+str(coef[0].round(2)))\n",
    "    axs[0].legend()\n",
    "    \n",
    "    slope_ord_c = []\n",
    "    for i in range(y_ord_c.shape[1]):\n",
    "        coef = np.polyfit(x,y_aleat[:,i],1) # x*coef[0] + coef[1] = y\n",
    "        slope_ord_c.append(coef[0])\n",
    "        x_linha = x\n",
    "        y_linha = x*coef[0]+np.array([coef[1] for i in range(len(x))])\n",
    "        axs[1].scatter(x, y_aleat[:,i])\n",
    "        axs[1].plot(x_linha, y_linha, label= label[i]+\": \"+str(coef[0].round(2)))\n",
    "    axs[1].legend()\n",
    "    \n",
    "    slope_ord_d = []\n",
    "    for i in range(y_ord_d.shape[1]):\n",
    "        coef = np.polyfit(x,y_aleat[:,i],1) # x*coef[0] + coef[1] = y\n",
    "        slope_ord_d.append(coef[0])\n",
    "        x_linha = x\n",
    "        y_linha = x*coef[0]+np.array([coef[1] for i in range(len(x))])\n",
    "        axs[2].scatter(x, y_aleat[:,i])\n",
    "        axs[2].plot(x_linha, y_linha, label= label[i]+\": \"+str(coef[0].round(2)))\n",
    "    axs[2].legend()\n",
    "    \n",
    "    plt.show()\n",
    "    \n",
    "    return fig"
   ]
  },
  {
   "cell_type": "code",
   "execution_count": 12,
   "id": "2d30f3d6",
   "metadata": {},
   "outputs": [
    {
     "ename": "NameError",
     "evalue": "name 'label' is not defined",
     "output_type": "error",
     "traceback": [
      "\u001b[0;31m---------------------------------------------------------------------------\u001b[0m",
      "\u001b[0;31mNameError\u001b[0m                                 Traceback (most recent call last)",
      "\u001b[0;32m<ipython-input-12-60c4a4ab1def>\u001b[0m in \u001b[0;36m<module>\u001b[0;34m\u001b[0m\n\u001b[1;32m     19\u001b[0m \u001b[0mx\u001b[0m \u001b[0;34m=\u001b[0m \u001b[0mnp\u001b[0m\u001b[0;34m.\u001b[0m\u001b[0mlog\u001b[0m\u001b[0;34m(\u001b[0m\u001b[0mnp\u001b[0m\u001b[0;34m.\u001b[0m\u001b[0marray\u001b[0m\u001b[0;34m(\u001b[0m\u001b[0;34m[\u001b[0m\u001b[0;36m10\u001b[0m\u001b[0;34m,\u001b[0m \u001b[0;36m100\u001b[0m\u001b[0;34m,\u001b[0m \u001b[0;36m1000\u001b[0m\u001b[0;34m,\u001b[0m \u001b[0;36m10000\u001b[0m\u001b[0;34m,\u001b[0m \u001b[0;36m100000\u001b[0m\u001b[0;34m]\u001b[0m\u001b[0;34m)\u001b[0m\u001b[0;34m)\u001b[0m\u001b[0;34m\u001b[0m\u001b[0;34m\u001b[0m\u001b[0m\n\u001b[1;32m     20\u001b[0m \u001b[0;34m\u001b[0m\u001b[0m\n\u001b[0;32m---> 21\u001b[0;31m \u001b[0mplota_reta\u001b[0m\u001b[0;34m(\u001b[0m\u001b[0mx\u001b[0m\u001b[0;34m,\u001b[0m \u001b[0my_aleat\u001b[0m\u001b[0;34m,\u001b[0m \u001b[0my_ord_c\u001b[0m\u001b[0;34m,\u001b[0m \u001b[0my_ord_d\u001b[0m\u001b[0;34m)\u001b[0m\u001b[0;34m\u001b[0m\u001b[0;34m\u001b[0m\u001b[0m\n\u001b[0m\u001b[1;32m     22\u001b[0m \u001b[0;36m0.000330\u001b[0m\u001b[0;34m,\u001b[0m \u001b[0;36m0.005282\u001b[0m\u001b[0;34m,\u001b[0m \u001b[0;36m0.000192\u001b[0m\u001b[0;34m,\u001b[0m \u001b[0;36m0.000253\u001b[0m\u001b[0;34m\u001b[0m\u001b[0;34m\u001b[0m\u001b[0m\n",
      "\u001b[0;32m<ipython-input-11-3838af581941>\u001b[0m in \u001b[0;36mplota_reta\u001b[0;34m(x, y_aleat, y_ord_c, y_ord_d)\u001b[0m\n\u001b[1;32m     11\u001b[0m         \u001b[0my_linha\u001b[0m \u001b[0;34m=\u001b[0m \u001b[0mx\u001b[0m\u001b[0;34m*\u001b[0m\u001b[0mcoef\u001b[0m\u001b[0;34m[\u001b[0m\u001b[0;36m0\u001b[0m\u001b[0;34m]\u001b[0m\u001b[0;34m+\u001b[0m\u001b[0mnp\u001b[0m\u001b[0;34m.\u001b[0m\u001b[0marray\u001b[0m\u001b[0;34m(\u001b[0m\u001b[0;34m[\u001b[0m\u001b[0mcoef\u001b[0m\u001b[0;34m[\u001b[0m\u001b[0;36m1\u001b[0m\u001b[0;34m]\u001b[0m \u001b[0;32mfor\u001b[0m \u001b[0mi\u001b[0m \u001b[0;32min\u001b[0m \u001b[0mrange\u001b[0m\u001b[0;34m(\u001b[0m\u001b[0mlen\u001b[0m\u001b[0;34m(\u001b[0m\u001b[0mx\u001b[0m\u001b[0;34m)\u001b[0m\u001b[0;34m)\u001b[0m\u001b[0;34m]\u001b[0m\u001b[0;34m)\u001b[0m\u001b[0;34m\u001b[0m\u001b[0;34m\u001b[0m\u001b[0m\n\u001b[1;32m     12\u001b[0m         \u001b[0maxs\u001b[0m\u001b[0;34m[\u001b[0m\u001b[0;36m0\u001b[0m\u001b[0;34m]\u001b[0m\u001b[0;34m.\u001b[0m\u001b[0mscatter\u001b[0m\u001b[0;34m(\u001b[0m\u001b[0mx\u001b[0m\u001b[0;34m,\u001b[0m \u001b[0my_aleat\u001b[0m\u001b[0;34m[\u001b[0m\u001b[0;34m:\u001b[0m\u001b[0;34m,\u001b[0m\u001b[0mi\u001b[0m\u001b[0;34m]\u001b[0m\u001b[0;34m)\u001b[0m\u001b[0;34m\u001b[0m\u001b[0;34m\u001b[0m\u001b[0m\n\u001b[0;32m---> 13\u001b[0;31m         \u001b[0maxs\u001b[0m\u001b[0;34m[\u001b[0m\u001b[0;36m0\u001b[0m\u001b[0;34m]\u001b[0m\u001b[0;34m.\u001b[0m\u001b[0mplot\u001b[0m\u001b[0;34m(\u001b[0m\u001b[0mx_linha\u001b[0m\u001b[0;34m,\u001b[0m \u001b[0my_linha\u001b[0m\u001b[0;34m,\u001b[0m \u001b[0mlabel\u001b[0m\u001b[0;34m=\u001b[0m \u001b[0mlabel\u001b[0m\u001b[0;34m[\u001b[0m\u001b[0mi\u001b[0m\u001b[0;34m]\u001b[0m\u001b[0;34m+\u001b[0m\u001b[0;34m\": \"\u001b[0m\u001b[0;34m+\u001b[0m\u001b[0mstr\u001b[0m\u001b[0;34m(\u001b[0m\u001b[0mcoef\u001b[0m\u001b[0;34m[\u001b[0m\u001b[0;36m0\u001b[0m\u001b[0;34m]\u001b[0m\u001b[0;34m.\u001b[0m\u001b[0mround\u001b[0m\u001b[0;34m(\u001b[0m\u001b[0;36m2\u001b[0m\u001b[0;34m)\u001b[0m\u001b[0;34m)\u001b[0m\u001b[0;34m)\u001b[0m\u001b[0;34m\u001b[0m\u001b[0;34m\u001b[0m\u001b[0m\n\u001b[0m\u001b[1;32m     14\u001b[0m     \u001b[0maxs\u001b[0m\u001b[0;34m[\u001b[0m\u001b[0;36m0\u001b[0m\u001b[0;34m]\u001b[0m\u001b[0;34m.\u001b[0m\u001b[0mlegend\u001b[0m\u001b[0;34m(\u001b[0m\u001b[0;34m)\u001b[0m\u001b[0;34m\u001b[0m\u001b[0;34m\u001b[0m\u001b[0m\n\u001b[1;32m     15\u001b[0m \u001b[0;34m\u001b[0m\u001b[0m\n",
      "\u001b[0;31mNameError\u001b[0m: name 'label' is not defined"
     ]
    },
    {
     "data": {
      "image/png": "[encoded data removed]",
      "text/plain": [
       "<Figure size 360x1080 with 3 Axes>"
      ]
     },
     "metadata": {
      "needs_background": "light"
     },
     "output_type": "display_data"
    }
   ],
   "source": [
    "y_aleat = np.log(np.array([[0.000005, 0.000004, 0.000004, 0.000005],\n",
    "                        [0.000049, 0.000115, 0.000028, 0.000034 ],\n",
    "                        [0.000330, 0.005282, 0.000192, 0.000253],\n",
    "                        [0.003814 , 0.547438,0.002247 ,0.003154],\n",
    "                        [0.048735, 61.036408,0.027728,0.039636]]))\n",
    "\n",
    "y_ord_c = np.log(np.array([[0.000002,0.000001,0.000002, 0.000003],\n",
    "                        [0.000015, 0.000001,0.000011,0.000017],\n",
    "                        [0.000256, 0.000005, 0.000124,0.000242],\n",
    "                        [0.003384,0.000051,0.001644,0.003305],\n",
    "                        [0.039301,0.000461,0.017934,0.038953]]))\n",
    "\n",
    "y_ord_d = np.log(np.array([[0.000002,0.000001,0.000002 ,0.000002],\n",
    "                        [0.000016, 0.000001 ,0.000011 ,0.000018],\n",
    "                        [0.000252 ,0.000006 ,0.000122,0.000243],\n",
    "                        [0.003246, 0.000050,0.001513 ,0.003125], \n",
    "                        [0.037669,52.156962,0.018943,0.038917]]))\n",
    "\n",
    "x = np.log(np.array([10, 100, 1000, 10000, 100000]))\n",
    "\n",
    "plota_reta(x, y_aleat, y_ord_c, y_ord_d)\n",
    "0.000330, 0.005282, 0.000192, 0.000253"
   ]
  },
  {
   "cell_type": "code",
   "execution_count": 4,
   "id": "6965ee18",
   "metadata": {},
   "outputs": [
    {
     "ename": "SyntaxError",
     "evalue": "invalid syntax (<ipython-input-4-a895c7c1acb4>, line 1)",
     "output_type": "error",
     "traceback": [
      "\u001b[0;36m  File \u001b[0;32m\"<ipython-input-4-a895c7c1acb4>\"\u001b[0;36m, line \u001b[0;32m1\u001b[0m\n\u001b[0;31m    Vetores Aleatorios\u001b[0m\n\u001b[0m            ^\u001b[0m\n\u001b[0;31mSyntaxError\u001b[0m\u001b[0;31m:\u001b[0m invalid syntax\n"
     ]
    }
   ],
   "source": [
    "Vetores Aleatorios\n",
    "Tempo total de cada algoritmo\n",
    "HeapSort:    0.000005    0.000049    0.000330    0.003814    0.048735  \n",
    "BubbleSort:  0.000004    0.000115    0.005282    0.547438    61.036408  \n",
    "QuickSort:   0.000004    0.000028    0.000192    0.002247    0.027728  \n",
    "RadixSort:   0.000005    0.000034    0.000253    0.003154    0.039636\n",
    "    \n",
    "Vetores em ordem crescente\n",
    "Tempo total de cada algoritmo\n",
    "HeapSort:    0.000002    0.000015    0.000256    0.003384    0.039301  \n",
    "BubbleSort:  0.000001    0.000001    0.000005    0.000051    0.000461  \n",
    "QuickSort:   0.000002    0.000011    0.000124    0.001644    0.017934  \n",
    "RadixSort:   0.000003    0.000017    0.000242    0.003305    0.038953  \n",
    "[[0.000002,0.000001,0.000002, 0.000003],\n",
    "[0.000015, 0.000001,0.000011,0.000017],\n",
    "[0.000256, 0.000005, 0.000124,0.000242],\n",
    "[0.003384,0.000051,0.001644,0.003305],\n",
    "[0.039301,0.000461,0.017934,0.038953]]\n",
    "\n",
    "Vetores em ordem decrescente\n",
    "Tempo total de cada algoritmo\n",
    "HeapSort:    0.000002    0.000016    0.000252    0.003246    0.037669  \n",
    "BubbleSort:  0.000001    0.000001    0.000006    0.000050    52.156962  \n",
    "QuickSort:   0.000002    0.000011    0.000122    0.001513    0.018943  \n",
    "RadixSort:   0.000002    0.000018    0.000243    0.003125    0.038917\n",
    "\n",
    "[[0.000002,0.000001,0.000002 ,0.000002],\n",
    "[0.000016, 0.000001 ,0.000011 ,0.000018],\n",
    "[0.000252 ,0.000006 ,0.000122,0.000243],\n",
    "[0.003246, 0.000050,0.001513 ,0.003125], \n",
    "[0.037669,52.156962,0.018943,0.038917]]"
   ]
  },
  {
   "cell_type": "code",
   "execution_count": 9,
   "id": "0f4c93a7",
   "metadata": {},
   "outputs": [
    {
     "name": "stdout",
     "output_type": "stream",
     "text": [
      "0.00033078123015404186\n",
      "0.039168666666666664\n"
     ]
    }
   ],
   "source": [
    "r = [0.039636,\n",
    "0.038953,\n",
    "0.038917,]\n",
    "print(np.std(r))\n",
    "print(np.average(r))"
   ]
  },
  {
   "cell_type": "code",
   "execution_count": null,
   "id": "ea64398d",
   "metadata": {},
   "outputs": [],
   "source": []
  }
 ],
 "metadata": {
  "kernelspec": {
   "display_name": "Python 3",
   "language": "python",
   "name": "python3"
  },
  "language_info": {
   "codemirror_mode": {
    "name": "ipython",
    "version": 3
   },
   "file_extension": ".py",
   "mimetype": "text/x-python",
   "name": "python",
   "nbconvert_exporter": "python",
   "pygments_lexer": "ipython3",
   "version": "3.8.5"
  }
 },
 "nbformat": 4,
 "nbformat_minor": 5
}
