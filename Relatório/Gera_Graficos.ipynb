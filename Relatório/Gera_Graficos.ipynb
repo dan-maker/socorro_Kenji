{
 "cells": [
  {
   "cell_type": "code",
   "execution_count": 2,
   "id": "d6be810c",
   "metadata": {},
   "outputs": [],
   "source": [
    "import numpy as np\n",
    "import matplotlib.pyplot as plt"
   ]
  },
  {
   "cell_type": "code",
   "execution_count": 31,
   "id": "730bfcfd",
   "metadata": {},
   "outputs": [],
   "source": [
    "def plota_reta(x, y, nome):\n",
    "    fig, ax = plt.subplots()\n",
    "    ax.set(xlabel='log do tamanho da entrada', ylabel='log do tempo de ordenacao', \n",
    "               title='Tempo de ordenacao no metodo '+nome)\n",
    "    label = [\"aleatorio\", \"crescente\", \"decrescente\"]\n",
    "    fig = plt.figure(figsize=(5, 5))\n",
    "    slope = []\n",
    "    \n",
    "    for i in range(len(y)):\n",
    "        coef = np.polyfit(x,y[i],1) # x*coef[0] + coef[1] = y\n",
    "        slope.append(coef[0])\n",
    "        x_linha = x\n",
    "        y_linha = x*coef[0]+np.array([coef[1] for i in range(len(x))])\n",
    "        ax.scatter(x, y[i])\n",
    "        ax.plot(x_linha, y_linha, label= label[i]+\": \"+str(coef[0].round(2)))\n",
    "    \n",
    "    ax.legend()\n",
    "    plt.show()\n",
    "    print(\"Slopes das retas (na ordem em que aparecem na legenda do gráfico:)\")\n",
    "    print(slope)\n",
    "    \n",
    "    return fig"
   ]
  },
  {
   "cell_type": "code",
   "execution_count": 38,
   "id": "2d30f3d6",
   "metadata": {},
   "outputs": [
    {
     "name": "stdout",
     "output_type": "stream",
     "text": [
      "26.92485836961971\n",
      "37.731277\n"
     ]
    }
   ],
   "source": [
    "# Bubble Sort\n",
    "y = np.log(np.array([[0.000004,    0.000115,    0.005282,    0.547438,    61.036408],\n",
    "              [0.000001,    0.000001,    0.000005,    0.000051,    0.000461 ],\n",
    "              [0.000001,    0.000001,    0.000006,    0.000050,    52.156962]]))\n",
    "x = np.log(np.array([10, 100, 1000, 10000, 100000]))\n",
    "\n",
    "#plota_reta(x, y, \"BubbleSort\")\n",
    "r = [61.036408\n",
    ",    0.000461 \n",
    ",    52.156962\n",
    "]\n",
    "print(np.std(r))\n",
    "print(np.average(r))"
   ]
  },
  {
   "cell_type": "code",
   "execution_count": 4,
   "id": "6965ee18",
   "metadata": {},
   "outputs": [
    {
     "ename": "SyntaxError",
     "evalue": "invalid syntax (<ipython-input-4-a895c7c1acb4>, line 1)",
     "output_type": "error",
     "traceback": [
      "\u001b[0;36m  File \u001b[0;32m\"<ipython-input-4-a895c7c1acb4>\"\u001b[0;36m, line \u001b[0;32m1\u001b[0m\n\u001b[0;31m    Vetores Aleatorios\u001b[0m\n\u001b[0m            ^\u001b[0m\n\u001b[0;31mSyntaxError\u001b[0m\u001b[0;31m:\u001b[0m invalid syntax\n"
     ]
    }
   ],
   "source": [
    "Vetores Aleatorios\n",
    "Tempo total de cada algoritmo\n",
    "HeapSort:    0.000005    0.000049    0.000330    0.003814    0.048735  \n",
    "BubbleSort:  0.000004    0.000115    0.005282    0.547438    61.036408  \n",
    "QuickSort:   0.000004    0.000028    0.000192    0.002247    0.027728  \n",
    "RadixSort:   0.000005    0.000034    0.000253    0.003154    0.039636  \n",
    "\n",
    "Vetores em ordem crescente\n",
    "Tempo total de cada algoritmo\n",
    "HeapSort:    0.000002    0.000015    0.000256    0.003384    0.039301  \n",
    "BubbleSort:  0.000001    0.000001    0.000005    0.000051    0.000461  \n",
    "QuickSort:   0.000002    0.000011    0.000124    0.001644    0.017934  \n",
    "RadixSort:   0.000003    0.000017    0.000242    0.003305    0.038953  \n",
    "\n",
    "Vetores em ordem decrescente\n",
    "Tempo total de cada algoritmo\n",
    "HeapSort:    0.000002    0.000016    0.000252    0.003246    0.037669  \n",
    "BubbleSort:  0.000001    0.000001    0.000006    0.000050    52.156962  \n",
    "QuickSort:   0.000002    0.000011    0.000122    0.001513    0.018943  \n",
    "RadixSort:   0.000002    0.000018    0.000243    0.003125    0.038917"
   ]
  },
  {
   "cell_type": "code",
   "execution_count": null,
   "id": "0f4c93a7",
   "metadata": {},
   "outputs": [],
   "source": []
  }
 ],
 "metadata": {
  "kernelspec": {
   "display_name": "Python 3",
   "language": "python",
   "name": "python3"
  },
  "language_info": {
   "codemirror_mode": {
    "name": "ipython",
    "version": 3
   },
   "file_extension": ".py",
   "mimetype": "text/x-python",
   "name": "python",
   "nbconvert_exporter": "python",
   "pygments_lexer": "ipython3",
   "version": "3.8.5"
  }
 },
 "nbformat": 4,
 "nbformat_minor": 5
}
